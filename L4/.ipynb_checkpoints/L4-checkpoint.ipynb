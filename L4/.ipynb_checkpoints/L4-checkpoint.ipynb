{
 "cells": [
  {
   "cell_type": "code",
   "execution_count": 116,
   "metadata": {},
   "outputs": [],
   "source": [
    "import numpy as np\n",
    "import os\n",
    "import math\n",
    "import matplotlib.pyplot as plt"
   ]
  },
  {
   "cell_type": "code",
   "execution_count": 120,
   "metadata": {},
   "outputs": [],
   "source": [
    "PARTS = 10\n",
    "alpha = 5"
   ]
  },
  {
   "cell_type": "code",
   "execution_count": 74,
   "metadata": {},
   "outputs": [],
   "source": [
    "letters_parts = []\n",
    "for i in range(10):\n",
    "    letters_part = []\n",
    "    for letter_filename in os.listdir('messages/part' + str(i + 1)):\n",
    "        letter_file = open(\"messages/part\" + str(i + 1) + \"/\" + letter_filename, \"r\")\n",
    "        theme = letter_file.readline()[9:-1]\n",
    "        letter_file.readline()\n",
    "        text = letter_file.readline()[:-1]\n",
    "        letters_part += [(theme, text, 1 if \"legit\" in letter_filename else 0)]\n",
    "    letters_parts += [letters_part]"
   ]
  },
  {
   "cell_type": "code",
   "execution_count": 75,
   "metadata": {},
   "outputs": [],
   "source": [
    "def create_dict(test_id):\n",
    "    d = [{}, {}] # spam_title, spam_text, legit_title, legit_text\n",
    "    legit_count, spam_count = 0, 0\n",
    "    for i in range(PARTS):\n",
    "        if i == test_id:\n",
    "            continue\n",
    "        \n",
    "        for letter in letters_parts[i]:\n",
    "            if letter[2] == 1:\n",
    "                legit_count += 1\n",
    "            else:\n",
    "                spam_count += 1\n",
    "                \n",
    "            # modification with merging title and text\n",
    "            combo = (letter[0] + letter[1]).split()\n",
    "            for s in combo:\n",
    "                if s in d[letter[2]]:\n",
    "                    d[letter[2]][s] += 1\n",
    "                else:\n",
    "                    d[letter[2]][s] = 1\n",
    "            \n",
    "    return (d, legit_count, spam_count)"
   ]
  },
  {
   "cell_type": "code",
   "execution_count": 113,
   "metadata": {},
   "outputs": [],
   "source": [
    "def prec_rec(actual, predicted):\n",
    "    tp, fp, tn, fn = 0, 0, 0, 0\n",
    "    for (a, p) in zip(actual, predicted):\n",
    "        if a == p:\n",
    "            if p == 1:\n",
    "                tp += 1\n",
    "            else:\n",
    "                tn += 1\n",
    "        else:\n",
    "            if p == 1:\n",
    "                fp += 1\n",
    "            else:\n",
    "                fn += 1\n",
    "    prec = tp / (tp + fp)\n",
    "    rec = tp / (tp + fn) \n",
    "    return (prec, rec)"
   ]
  },
  {
   "cell_type": "code",
   "execution_count": 127,
   "metadata": {},
   "outputs": [],
   "source": [
    "def predict(test_id, d, legit_count, spam_count, lam):\n",
    "    p_legit_abs = math.log(legit_count / (legit_count + spam_count))\n",
    "    legit_weight = sum([d[1][k] for k in d[1]])\n",
    "    spam_weight = sum([d[0][k] for k in d[0]])\n",
    "    p_spam_abs = math.log(spam_count / (legit_count + spam_count))\n",
    "    res = []\n",
    "    for letter in letters_parts[i]:\n",
    "        def getFromD(dic, key):\n",
    "            return alpha + (dic[key] if key in dic else 0)\n",
    "        \n",
    "        combo = (letter[0] + letter[1]).split()\n",
    "        '''\n",
    "        p_legit = p_legit_abs \n",
    "        for s in combo:\n",
    "            p_legit += math.log(getFromD(d[1], s) / ((alpha * len(d[1]) + legit_weight)))\n",
    "            '''\n",
    "        p_legit = p_legit_abs + sum([math.log(lam * getFromD(d[1], s) / (alpha * len(d[1]) + legit_weight)) for s in combo])\n",
    "        p_spam = p_spam_abs + sum([math.log(getFromD(d[0], s) / (alpha * len(d[0]) + spam_weight)) for s in combo])\n",
    "        #res += [1 if p_legit*lam > p_spam else 0]\n",
    "        res += [1 if p_legit > p_spam else 0]\n",
    "    return res"
   ]
  },
  {
   "cell_type": "code",
   "execution_count": 137,
   "metadata": {},
   "outputs": [
    {
     "name": "stdout",
     "output_type": "stream",
     "text": [
      "mean rec 0.8032786885245903 mean prec 0.9900989199462291\n",
      "mean rec 0.8704918032786886 mean prec 0.9832258279566529\n",
      "mean rec 0.9245901639344263 mean prec 0.966238085783625\n",
      "mean rec 0.9639344262295081 mean prec 0.9313212464795135\n",
      "mean rec 0.980327868852459 mean prec 0.8988936676797448\n",
      "mean rec 0.9934426229508198 mean prec 0.864040143791633\n",
      "mean rec 0.9967213114754099 mean prec 0.8113334287640273\n",
      "mean rec 0.9983606557377049 mean prec 0.7711152778391134\n",
      "mean rec 0.9983606557377049 mean prec 0.7225195582578625\n",
      "mean rec 0.9983606557377049 mean prec 0.6753551626007097\n"
     ]
    },
    {
     "data": {
      "image/png": "[encoded data removed]",
      "text/plain": [
       "<Figure size 432x288 with 1 Axes>"
      ]
     },
     "metadata": {
      "needs_background": "light"
     },
     "output_type": "display_data"
    },
    {
     "data": {
      "image/png": "[encoded data removed]",
      "text/plain": [
       "<Figure size 432x288 with 1 Axes>"
      ]
     },
     "metadata": {
      "needs_background": "light"
     },
     "output_type": "display_data"
    }
   ],
   "source": [
    "lam_list = []\n",
    "mean_rec_list = []\n",
    "mean_prec_list = []\n",
    "for lam_koef in range(10):\n",
    "    rec_sum = 0.0\n",
    "    prec_sum = 0.0\n",
    "    lam = 0.9 + lam_koef / 5\n",
    "    #lam = lam_koef + 1\n",
    "    for i in range(10):\n",
    "        d, legit_count, spam_count = create_dict(i)\n",
    "        prediction = predict(i, d, legit_count, spam_count, lam)\n",
    "        actual = [letter[2] for letter in letters_parts[i]]\n",
    "        prec, rec = prec_rec(actual, prediction)\n",
    "        rec_sum += rec\n",
    "        prec_sum += prec\n",
    "    lam_list += [lam]\n",
    "    mean_rec_list += [rec_sum / 10]\n",
    "    mean_prec_list += [prec_sum / 10]\n",
    "    print(\"mean rec\", rec_sum / 10, \"mean prec\", prec_sum / 10)\n",
    "plt.plot(lam_list, mean_rec_list)\n",
    "plt.xlabel('lambda_coef')\n",
    "plt.ylabel('mean recall')\n",
    "plt.show()\n",
    "plt.plot(lam_list, mean_prec_list)\n",
    "plt.xlabel('lambda_coef')\n",
    "plt.ylabel('mean precision')\n",
    "plt.show()\n",
    "    \n"
   ]
  },
  {
   "cell_type": "code",
   "execution_count": null,
   "metadata": {},
   "outputs": [],
   "source": []
  },
  {
   "cell_type": "code",
   "execution_count": null,
   "metadata": {},
   "outputs": [],
   "source": []
  }
 ],
 "metadata": {
  "kernelspec": {
   "display_name": "Python 3",
   "language": "python",
   "name": "python3"
  },
  "language_info": {
   "codemirror_mode": {
    "name": "ipython",
    "version": 3
   },
   "file_extension": ".py",
   "mimetype": "text/x-python",
   "name": "python",
   "nbconvert_exporter": "python",
   "pygments_lexer": "ipython3",
   "version": "3.7.4"
  }
 },
 "nbformat": 4,
 "nbformat_minor": 2
}
