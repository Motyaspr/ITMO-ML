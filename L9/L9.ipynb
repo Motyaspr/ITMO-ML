{
 "cells": [
  {
   "cell_type": "code",
   "execution_count": 1,
   "metadata": {},
   "outputs": [],
   "source": [
    "import csv\n",
    "import numpy as np\n",
    "import math\n",
    "from operator import sub\n",
    "import operator\n",
    "import matplotlib.pyplot as plt"
   ]
  },
  {
   "cell_type": "markdown",
   "metadata": {},
   "source": [
    "### Loading data"
   ]
  },
  {
   "cell_type": "code",
   "execution_count": 2,
   "metadata": {},
   "outputs": [],
   "source": [
    "csv_path = \"card.csv\"\n",
    "with open(csv_path, 'r') as f:\n",
    "    reader = csv.reader(f, delimiter=',')\n",
    "    headers = next(reader)\n",
    "    data = list(reader)\n",
    "    data = np.array(data).astype(float)\n",
    "data = data[:200]\n",
    "N = len(data)\n",
    "l = len(data[0]) - 1\n",
    "classCount = 10"
   ]
  },
  {
   "cell_type": "markdown",
   "metadata": {},
   "source": [
    "### Data normalization"
   ]
  },
  {
   "cell_type": "code",
   "execution_count": 77,
   "metadata": {},
   "outputs": [],
   "source": [
    "#NORMALIZATION\n",
    "\n",
    "maxs = [e for e in data[0]]\n",
    "mins = [e for e in data[0]]\n",
    "for row in data:\n",
    "    for i in range(0, l):\n",
    "        if row[i] > maxs[i]:\n",
    "            maxs[i] = row[i]\n",
    "        if row[i] < mins[i]:\n",
    "            mins[i] = row[i]\n",
    "\n",
    "normData = np.zeros((N, l + 1))\n",
    "\n",
    "for i in range(0, N):\n",
    "    for j in range(0, l):\n",
    "        normData[i][j] = (data[i][j] - mins[j]) / (maxs[j] - mins[j]) if (maxs[j] - mins[j]) != 0 else 0\n",
    "    normData[i][l] = data[i][l]"
   ]
  },
  {
   "cell_type": "markdown",
   "metadata": {},
   "source": [
    "### Usefull functions"
   ]
  },
  {
   "cell_type": "code",
   "execution_count": 78,
   "metadata": {},
   "outputs": [],
   "source": [
    "#DISTANCE\n",
    "def euclidean(x, y):\n",
    "    res = 0.0\n",
    "    for a, b in zip(x, y):\n",
    "        res = res + (a - b) ** 2\n",
    "    return math.sqrt(res)\n",
    " \n",
    "    \n",
    "def chebyshev(x, y):\n",
    "    return abs(max(map(sub, x, y), key=abs))\n",
    "\n",
    "\n",
    "def manhattan(x, y):\n",
    "        return sum(map(abs, map(sub, x, y)))\n",
    "    \n",
    "distance_dict = {\n",
    "    \"euclidean\" : euclidean,\n",
    "    \"chebyshev\" : chebyshev,\n",
    "    \"manhattan\" : manhattan\n",
    "}\n",
    "\n",
    "#KERNEL\n",
    "def uniform(x):\n",
    "    if abs(x) >= 1:\n",
    "        return 0\n",
    "    else:\n",
    "        return 0.5\n",
    " \n",
    " \n",
    "def triangular(x):\n",
    "    if abs(x) >= 1:\n",
    "        return 0\n",
    "    else:\n",
    "        return 1 - abs(x)\n",
    " \n",
    " \n",
    "def epanechnikov(x):\n",
    "    if abs(x) >= 1:\n",
    "        return 0\n",
    "    else:\n",
    "        return 0.75 * (1 - x ** 2)\n",
    " \n",
    " \n",
    "def quartic(x):\n",
    "    if abs(x) >= 1:\n",
    "        return 0\n",
    "    else:\n",
    "        return 15 / 16 * (1 - x ** 2) ** 2\n",
    " \n",
    " \n",
    "def triweight(x):\n",
    "    if abs(x) >= 1:\n",
    "        return 0\n",
    "    else:\n",
    "        return 35 / 32 * (1 - x ** 2) ** 3\n",
    " \n",
    " \n",
    "def tricube(x):\n",
    "    if abs(x) >= 1:\n",
    "        return 0\n",
    "    else:\n",
    "        return 70 / 81 * (1 - abs(x) ** 3) ** 3\n",
    " \n",
    " \n",
    "def gaussian(x):\n",
    "    return 1 / math.sqrt(math.pi * 2) * math.exp((-0.5) * x ** 2)\n",
    " \n",
    "def cosine(x):\n",
    "    if abs(x) >= 1:\n",
    "        return 0\n",
    "    else:\n",
    "        return math.pi / 4 * math.cos(math.pi / 2 * x)\n",
    " \n",
    " \n",
    "def logistic(x):\n",
    "    return 1 / (math.e ** x + 2 + math.e ** (-x))\n",
    "\n",
    "def sigmoid(x):\n",
    "    return 2 / math.pi / (math.e ** x + math.e ** (-x))\n",
    "\n",
    "kernel_dict = {\n",
    "    \"uniform\" : uniform,\n",
    "    \"triangular\" : triangular,\n",
    "    \"epanechnikov\" : epanechnikov,\n",
    "    \"quartic\" : quartic,\n",
    "    \"triweight\" : triweight,\n",
    "    \"tricube\" : tricube,\n",
    "    \"gaussian\" : gaussian,\n",
    "    \"cosine\" : cosine,\n",
    "    \"logistic\" : logistic,\n",
    "    \"sigmoid\" : sigmoid\n",
    "}\n",
    "\n",
    "#WINDOW\n",
    "def fixed(h, points, kernel):\n",
    "    return list(map(lambda x: kernel(x / h), points))\n",
    " \n",
    "def variable(k, points, kernel):\n",
    "    h = points[k]\n",
    "    return list(map(lambda x: kernel(x / h), points))\n"
   ]
  },
  {
   "cell_type": "markdown",
   "metadata": {},
   "source": [
    "### HIERARCHICAL CLUSTERING"
   ]
  },
  {
   "cell_type": "code",
   "execution_count": 295,
   "metadata": {},
   "outputs": [],
   "source": [
    "import copy\n",
    "\n",
    "# R(W,S)=αU⋅R(U,S)+αV⋅R(V,S)+β⋅R(U,V)+γ⋅|R(U,S)−R(V,S)|\n",
    "def dist(r, u, v, s):\n",
    "    au = 0.5\n",
    "    av = 0.5\n",
    "    gum = 0.5\n",
    "    \n",
    "    return au * r[u][s] + av * r[v][s] + gum * abs(r[u][s] - r[v][s])\n",
    "\n",
    "\n",
    "def find_new_cluster(distances):\n",
    "    x_min = copy.deepcopy(next(iter(distances)))\n",
    "    y_min = copy.deepcopy(next(iter(distances[x_min])))\n",
    "    min_dist = distances[x_min][y_min]\n",
    "    \n",
    "    for x in distances:\n",
    "        for y in distances[x]:\n",
    "            if x != y and distances[x][y] < min_dist:\n",
    "                min_dist = distances[x][y]\n",
    "                x_min = x\n",
    "                y_min = y\n",
    "                            \n",
    "    return x_min, y_min\n",
    "\n",
    "\n",
    "def hier_step(distances, orig_distances):\n",
    "    u, v = find_new_cluster(distances)\n",
    "    new_cluster = set(u)\n",
    "    new_cluster.update(v)\n",
    "    new_cluster = frozenset(new_cluster)\n",
    "    new_distances = {new_cluster : {}}\n",
    "\n",
    "    for x in distances:\n",
    "        if not x.issubset(new_cluster):\n",
    "            new_distances[x] = {}\n",
    "            for y in distances:\n",
    "                if x != y and not y.issubset(new_cluster):\n",
    "                    new_distances[x][y] = distances[x][y]\n",
    "            \n",
    "            new_distances[new_cluster][x] = dist(distances, u, v, x)\n",
    "            new_distances[x][new_cluster] = dist(distances, u, v, x)\n",
    "                \n",
    "    return new_distances\n",
    "\n",
    "def hier(orig_distances, clusters_num):\n",
    "    distances = copy.deepcopy(orig_distances)\n",
    "    \n",
    "    it = 0\n",
    "    while len(distances) > clusters_num:\n",
    "        #print(\"hier clustering, step\", it)\n",
    "        it += 1\n",
    "        distances = hier_step(distances, orig_distances)\n",
    "        #print(\"KEYS:\", distances.keys())\n",
    "    return distances.keys()"
   ]
  },
  {
   "cell_type": "code",
   "execution_count": 296,
   "metadata": {},
   "outputs": [],
   "source": [
    "def ds_to_distances(ds):\n",
    "    distances = {}\n",
    "    for i in range(len(ds)):\n",
    "        distances[frozenset([i])] = {}\n",
    "    for i in range(len(ds)):\n",
    "        i_set = frozenset([i])\n",
    "        for j in range(i + 1, len(ds)):\n",
    "            j_set = frozenset([j])\n",
    "            cur_dist = chebyshev(ds[i], ds[j])\n",
    "            distances[i_set][j_set] = cur_dist\n",
    "            distances[j_set][i_set] = cur_dist\n",
    "            \n",
    "    return distances"
   ]
  },
  {
   "cell_type": "code",
   "execution_count": 297,
   "metadata": {},
   "outputs": [],
   "source": [
    "def get_new_labels(y, pred_y):\n",
    "    d = {}\n",
    "    for i in range(len(y)):\n",
    "        if y[i] not in d:\n",
    "            d[y[i]] = {}\n",
    "        if pred_y[i] not in d[y[i]]:\n",
    "            d[y[i]][pred_y[i]] = 1\n",
    "        else:\n",
    "            d[y[i]][pred_y[i]] += 1\n",
    "    d_res = {}\n",
    "    print(d)\n",
    "    for k in d:\n",
    "        max_label = -1\n",
    "        max_count = -1\n",
    "        for k2 in d[k]:\n",
    "            if d[k][k2] > max_count:\n",
    "                max_count = d[k][k2]\n",
    "                max_label = k2\n",
    "        d_res[k] = max_label\n",
    "    return d_res\n",
    "            "
   ]
  },
  {
   "cell_type": "code",
   "execution_count": 298,
   "metadata": {},
   "outputs": [],
   "source": [
    "def get_confusion_table(y, pred_y):\n",
    "    c = len(set(y))\n",
    "    ct = [[0 for j in range(c)] for i in range(c)]\n",
    "    for y1, p in zip(y, pred_y):\n",
    "        ct[p][y1] += 1\n",
    "    return ct"
   ]
  },
  {
   "cell_type": "code",
   "execution_count": 299,
   "metadata": {},
   "outputs": [
    {
     "name": "stdout",
     "output_type": "stream",
     "text": [
      "[[0, 0, 0], [1, 1, 0], [0, 0, 1]]\n"
     ]
    }
   ],
   "source": [
    "print(get_confusion_table([0, 1, 2], [1, 1, 2]))"
   ]
  },
  {
   "cell_type": "code",
   "execution_count": 300,
   "metadata": {},
   "outputs": [],
   "source": [
    "def calcFMeasure(v):\n",
    "    n = len(v)\n",
    "    summ = sum([sum(row) for row in v])\n",
    "    precision_macro = 0\n",
    "    recall_macro = 0\n",
    "  \n",
    "    for i in range(n):\n",
    "        x = 0\n",
    "        y = 0\n",
    "        for j in range(n):\n",
    "            x += v[i][j]\n",
    "            y += v[j][i]\n",
    "      \n",
    "        precision = v[i][i] / x if x != 0 else 0\n",
    "        recall = v[i][i] / y if y != 0 else 0\n",
    "        precision_macro += precision * x\n",
    "        recall_macro += recall * x\n",
    "  \n",
    "    return 2.0 * precision_macro * recall_macro / (precision_macro + recall_macro) / summ if precision_macro + recall_macro != 0 and sum != 0 else 0"
   ]
  },
  {
   "cell_type": "code",
   "execution_count": 301,
   "metadata": {},
   "outputs": [
    {
     "name": "stdout",
     "output_type": "stream",
     "text": [
      "0.7999999999999999\n"
     ]
    }
   ],
   "source": [
    "print(calcFMeasure(get_confusion_table([0, 1, 2], [1, 1, 2])))"
   ]
  },
  {
   "cell_type": "code",
   "execution_count": 302,
   "metadata": {},
   "outputs": [
    {
     "name": "stdout",
     "output_type": "stream",
     "text": [
      "{frozenset({0}): {frozenset({1}): 1}, frozenset({1}): {frozenset({0}): 1}}\n"
     ]
    }
   ],
   "source": [
    "print(ds_to_distances([[1,1], [0, 0]]))"
   ]
  },
  {
   "cell_type": "code",
   "execution_count": 303,
   "metadata": {},
   "outputs": [
    {
     "name": "stdout",
     "output_type": "stream",
     "text": [
      "(200, 36)\n"
     ]
    }
   ],
   "source": [
    "print(normData.shape)"
   ]
  },
  {
   "cell_type": "code",
   "execution_count": 304,
   "metadata": {},
   "outputs": [],
   "source": [
    "import numpy as np\n",
    "import pandas as pd\n",
    "from matplotlib import pyplot as plt\n",
    "from sklearn.datasets.samples_generator import make_blobs\n",
    "from sklearn.cluster import KMeans"
   ]
  },
  {
   "cell_type": "code",
   "execution_count": 305,
   "metadata": {},
   "outputs": [
    {
     "data": {
      "text/plain": [
       "<matplotlib.collections.PathCollection at 0x121cbe250>"
      ]
     },
     "execution_count": 305,
     "metadata": {},
     "output_type": "execute_result"
    },
    {
     "data": {
      "image/png": "[encoded data removed]",
      "text/plain": [
       "<Figure size 432x288 with 1 Axes>"
      ]
     },
     "metadata": {
      "needs_background": "light"
     },
     "output_type": "display_data"
    }
   ],
   "source": [
    "X, y = make_blobs(n_samples=120, centers=5, cluster_std=0.60, random_state=0)\n",
    "plt.scatter(X[:,0], X[:,1])"
   ]
  },
  {
   "cell_type": "code",
   "execution_count": 306,
   "metadata": {},
   "outputs": [],
   "source": [
    "clusters = hier(ds_to_distances(X), 5)"
   ]
  },
  {
   "cell_type": "code",
   "execution_count": 307,
   "metadata": {},
   "outputs": [],
   "source": [
    "it = 0\n",
    "point_to_cluster = {}\n",
    "for cluster in clusters:\n",
    "    for point in cluster:\n",
    "        point_to_cluster[point] = it\n",
    "    it += 1\n",
    "pred_y = [point_to_cluster[i] for i in range(len(X))]"
   ]
  },
  {
   "cell_type": "code",
   "execution_count": 308,
   "metadata": {},
   "outputs": [
    {
     "name": "stdout",
     "output_type": "stream",
     "text": [
      "{4: {2: 21}, 3: {1: 24}, 0: {0: 24, 2: 3}, 1: {3: 24}, 2: {4: 24}}\n"
     ]
    }
   ],
   "source": [
    "new_labels = get_new_labels(pred_y, y)\n",
    "y_trans = [new_labels[e] for e in pred_y]"
   ]
  },
  {
   "cell_type": "code",
   "execution_count": 309,
   "metadata": {},
   "outputs": [
    {
     "name": "stdout",
     "output_type": "stream",
     "text": [
      "{4: 2, 3: 1, 0: 0, 1: 3, 2: 4}\n"
     ]
    }
   ],
   "source": [
    "print(new_labels)"
   ]
  },
  {
   "cell_type": "code",
   "execution_count": 310,
   "metadata": {},
   "outputs": [],
   "source": [
    "ct = get_confusion_table(y, y_trans)"
   ]
  },
  {
   "cell_type": "code",
   "execution_count": 311,
   "metadata": {},
   "outputs": [
    {
     "name": "stdout",
     "output_type": "stream",
     "text": [
      "[24, 0, 3, 0, 0]\n",
      "[0, 24, 0, 0, 0]\n",
      "[0, 0, 21, 0, 0]\n",
      "[0, 0, 0, 24, 0]\n",
      "[0, 0, 0, 0, 24]\n"
     ]
    }
   ],
   "source": [
    "for row in ct:\n",
    "    print(row)"
   ]
  },
  {
   "cell_type": "code",
   "execution_count": 312,
   "metadata": {},
   "outputs": [
    {
     "name": "stdout",
     "output_type": "stream",
     "text": [
      "F measure: 0.97656\n"
     ]
    }
   ],
   "source": [
    "F = calcFMeasure(ct)\n",
    "print(\"F measure:\", F)"
   ]
  },
  {
   "cell_type": "code",
   "execution_count": 313,
   "metadata": {},
   "outputs": [],
   "source": [
    "def get_cluster_cohesion(x, clusters):\n",
    "    res = 0\n",
    "    for cluster in clusters:\n",
    "        mean = sum([np.array(x[point]) for point in cluster]) / len(cluster)\n",
    "        for point in cluster:\n",
    "            res += np.linalg.norm(x[point] - mean) ** 2\n",
    "    return res"
   ]
  },
  {
   "cell_type": "code",
   "execution_count": 314,
   "metadata": {},
   "outputs": [
    {
     "name": "stdout",
     "output_type": "stream",
     "text": [
      "Cluster Cohesion: 80.89873207215827\n"
     ]
    }
   ],
   "source": [
    "CC = get_cluster_cohesion(X, clusters)\n",
    "print('Cluster Cohesion:', CC)"
   ]
  },
  {
   "cell_type": "code",
   "execution_count": 316,
   "metadata": {},
   "outputs": [],
   "source": [
    "def get_rand_index(y, p):\n",
    "    tp = 0\n",
    "    tn = 0\n",
    "    fp = 0\n",
    "    fn = 0\n",
    "    for i in range(len(y)):\n",
    "        for j in range(i + 1, len(y)):\n",
    "            if y[i] == y[j]:\n",
    "                if p[i] == p[j]:\n",
    "                    tp += 1\n",
    "                else:\n",
    "                    fp += 1\n",
    "            else:\n",
    "                if p[i] == p[j]:\n",
    "                    tn += 1\n",
    "                else:\n",
    "                    fn += 1\n",
    "    return (tp + fn) / (tp + fp + tn + fn)"
   ]
  },
  {
   "cell_type": "code",
   "execution_count": null,
   "metadata": {},
   "outputs": [],
   "source": []
  },
  {
   "cell_type": "code",
   "execution_count": 317,
   "metadata": {},
   "outputs": [
    {
     "data": {
      "image/png": "[encoded data removed]",
      "text/plain": [
       "<Figure size 432x288 with 1 Axes>"
      ]
     },
     "metadata": {
      "needs_background": "light"
     },
     "output_type": "display_data"
    },
    {
     "name": "stdout",
     "output_type": "stream",
     "text": [
      "{0: {2: 24, 1: 24, 0: 24}, 1: {3: 24}, 2: {4: 24}}\n"
     ]
    },
    {
     "data": {
      "image/png": "[encoded data removed]",
      "text/plain": [
       "<Figure size 432x288 with 1 Axes>"
      ]
     },
     "metadata": {
      "needs_background": "light"
     },
     "output_type": "display_data"
    },
    {
     "name": "stdout",
     "output_type": "stream",
     "text": [
      "[0, 0, 0, 0, 0]\n",
      "[0, 0, 0, 0, 0]\n",
      "[24, 24, 24, 0, 0]\n",
      "[0, 0, 0, 24, 0]\n",
      "[0, 0, 0, 0, 24]\n",
      "Random Index: 0.7579831932773109\n",
      "Cluster Cohesion: 371.2124044062063\n"
     ]
    },
    {
     "data": {
      "image/png": "[encoded data removed]",
      "text/plain": [
       "<Figure size 432x288 with 1 Axes>"
      ]
     },
     "metadata": {
      "needs_background": "light"
     },
     "output_type": "display_data"
    },
    {
     "name": "stdout",
     "output_type": "stream",
     "text": [
      "{4: {2: 21}, 3: {1: 24}, 0: {0: 24, 2: 3}, 1: {3: 24}, 2: {4: 24}}\n"
     ]
    },
    {
     "data": {
      "image/png": "[encoded data removed]",
      "text/plain": [
       "<Figure size 432x288 with 1 Axes>"
      ]
     },
     "metadata": {
      "needs_background": "light"
     },
     "output_type": "display_data"
    },
    {
     "name": "stdout",
     "output_type": "stream",
     "text": [
      "[24, 0, 3, 0, 0]\n",
      "[0, 24, 0, 0, 0]\n",
      "[0, 0, 21, 0, 0]\n",
      "[0, 0, 0, 24, 0]\n",
      "[0, 0, 0, 0, 24]\n",
      "Random Index: 0.9810924369747899\n",
      "Cluster Cohesion: 80.89873207215827\n"
     ]
    },
    {
     "data": {
      "image/png": "[encoded data removed]",
      "text/plain": [
       "<Figure size 432x288 with 1 Axes>"
      ]
     },
     "metadata": {
      "needs_background": "light"
     },
     "output_type": "display_data"
    },
    {
     "name": "stdout",
     "output_type": "stream",
     "text": [
      "{4: {2: 21}, 2: {1: 24}, 5: {0: 16}, 3: {3: 15}, 1: {4: 24}, 6: {3: 9}, 0: {2: 3, 0: 8}}\n"
     ]
    },
    {
     "data": {
      "image/png": "[encoded data removed]",
      "text/plain": [
       "<Figure size 432x288 with 1 Axes>"
      ]
     },
     "metadata": {
      "needs_background": "light"
     },
     "output_type": "display_data"
    },
    {
     "name": "stdout",
     "output_type": "stream",
     "text": [
      "[24, 0, 3, 0, 0]\n",
      "[0, 24, 0, 0, 0]\n",
      "[0, 0, 21, 0, 0]\n",
      "[0, 0, 0, 24, 0]\n",
      "[0, 0, 0, 0, 24]\n",
      "Random Index: 0.9509803921568627\n",
      "Cluster Cohesion: 65.08037028117208\n"
     ]
    },
    {
     "data": {
      "image/png": "[encoded data removed]",
      "text/plain": [
       "<Figure size 432x288 with 1 Axes>"
      ]
     },
     "metadata": {
      "needs_background": "light"
     },
     "output_type": "display_data"
    },
    {
     "name": "stdout",
     "output_type": "stream",
     "text": [
      "{2: {2: 21}, 0: {1: 24}, 3: {0: 16}, 1: {3: 15}, 4: {4: 21}, 6: {3: 9}, 8: {2: 3, 0: 3}, 5: {0: 5}, 7: {4: 3}}\n"
     ]
    },
    {
     "data": {
      "image/png": "[encoded data removed]",
      "text/plain": [
       "<Figure size 432x288 with 1 Axes>"
      ]
     },
     "metadata": {
      "needs_background": "light"
     },
     "output_type": "display_data"
    },
    {
     "name": "stdout",
     "output_type": "stream",
     "text": [
      "[21, 0, 0, 0, 0]\n",
      "[0, 24, 0, 0, 0]\n",
      "[3, 0, 24, 0, 0]\n",
      "[0, 0, 0, 24, 0]\n",
      "[0, 0, 0, 0, 24]\n",
      "Random Index: 0.942156862745098\n",
      "Cluster Cohesion: 56.8419944370314\n"
     ]
    }
   ],
   "source": [
    "ccs = []\n",
    "ris = []\n",
    "X, y = make_blobs(n_samples=120, centers=5, cluster_std=0.60, random_state=0)\n",
    "for k in [3, 5, 7, 9]:\n",
    "    \n",
    "    plt.scatter(X[:,0], X[:,1])\n",
    "    \n",
    "    plt.show()\n",
    "    clusters = hier(ds_to_distances(X), k)\n",
    "    it = 0\n",
    "    point_to_cluster = {}\n",
    "    for cluster in clusters:\n",
    "        for point in cluster:\n",
    "            point_to_cluster[point] = it\n",
    "        it += 1\n",
    "    pred_y = [point_to_cluster[i] for i in range(len(X))]\n",
    "    \n",
    "    new_labels = get_new_labels(pred_y, y)\n",
    "    y_trans = [new_labels[e] for e in pred_y]\n",
    "    for i in range(k):\n",
    "        indeces = [j for j in range(len(X)) if pred_y[j] == i]\n",
    "        plt.scatter([X[j][0] for j in indeces], [X[j][1] for j in indeces], marker='$' + str(i) + '$')\n",
    "    plt.show()\n",
    "    ct = get_confusion_table(y, y_trans)\n",
    "    for row in ct:\n",
    "        print(row)\n",
    "    ri = get_rand_index(y, pred_y)\n",
    "    print('Random Index:', ri)\n",
    "    ris.append(ri)\n",
    "    \n",
    "    CC = get_cluster_cohesion(X, clusters)\n",
    "    print('Cluster Cohesion:', CC)\n",
    "    ccs.append(CC)"
   ]
  },
  {
   "cell_type": "code",
   "execution_count": 318,
   "metadata": {},
   "outputs": [
    {
     "data": {
      "text/plain": [
       "[<matplotlib.lines.Line2D at 0x11fed3150>]"
      ]
     },
     "execution_count": 318,
     "metadata": {},
     "output_type": "execute_result"
    },
    {
     "data": {
      "image/png": "[encoded data removed]",
      "text/plain": [
       "<Figure size 432x288 with 1 Axes>"
      ]
     },
     "metadata": {
      "needs_background": "light"
     },
     "output_type": "display_data"
    }
   ],
   "source": [
    "plt.plot([3, 5, 7, 9], ris)"
   ]
  },
  {
   "cell_type": "code",
   "execution_count": 287,
   "metadata": {},
   "outputs": [
    {
     "data": {
      "text/plain": [
       "[<matplotlib.lines.Line2D at 0x113e07410>]"
      ]
     },
     "execution_count": 287,
     "metadata": {},
     "output_type": "execute_result"
    },
    {
     "data": {
      "image/png": "[encoded data removed]",
      "text/plain": [
       "<Figure size 432x288 with 1 Axes>"
      ]
     },
     "metadata": {
      "needs_background": "light"
     },
     "output_type": "display_data"
    }
   ],
   "source": [
    "plt.plot([3, 5, 7, 9], ccs)"
   ]
  },
  {
   "cell_type": "code",
   "execution_count": 274,
   "metadata": {},
   "outputs": [],
   "source": [
    "def y_to_clusters(y):\n",
    "    d = {}\n",
    "    for i in range(len(y)):\n",
    "        if y[i] not in d:\n",
    "            d[y[i]] = set([i])\n",
    "        else:\n",
    "            d[y[i]].add(i)\n",
    "    return d.values()"
   ]
  },
  {
   "cell_type": "code",
   "execution_count": 275,
   "metadata": {},
   "outputs": [
    {
     "name": "stdout",
     "output_type": "stream",
     "text": [
      "dict_values([{0, 3, 4, 5, 15, 18, 20, 22, 26, 29, 30, 31, 32, 37, 39, 40, 42, 43, 45, 47, 48, 50, 51, 53, 54, 55, 58, 60, 61, 65, 67, 71, 75, 76, 78, 80, 82, 83, 84, 86, 95, 99, 102, 109, 110, 113, 116}, {1, 2, 8, 17, 24, 28, 33, 34, 35, 36, 41, 46, 57, 59, 72, 77, 81, 85, 87, 89, 94, 97, 98, 106}, {6, 7, 9, 11, 12, 13, 63, 66, 68, 70, 73, 74, 79, 88, 91, 92, 93, 100, 105, 111, 112, 114, 118, 119}, {10, 14, 16, 19, 21, 23, 25, 27, 38, 44, 49, 52, 56, 62, 64, 69, 90, 96, 101, 104, 107, 108, 115, 117}, {103}])\n"
     ]
    }
   ],
   "source": [
    "print(y_to_clusters(y_trans))"
   ]
  },
  {
   "cell_type": "code",
   "execution_count": 258,
   "metadata": {},
   "outputs": [
    {
     "data": {
      "image/png": "[encoded data removed]",
      "text/plain": [
       "<Figure size 432x288 with 1 Axes>"
      ]
     },
     "metadata": {
      "needs_background": "light"
     },
     "output_type": "display_data"
    }
   ],
   "source": [
    "import pandas as pd\n",
    "from sklearn.datasets.samples_generator import make_blobs\n",
    "from sklearn.cluster import KMeans\n",
    "\n",
    "\n",
    "kmeans = KMeans(n_clusters=5, init='k-means++', max_iter=300, n_init=10, random_state=0)\n",
    "base_y = kmeans.fit_predict(X)\n",
    "plt.scatter(X[:,0], X[:,1])\n",
    "plt.scatter(kmeans.cluster_centers_[:, 0], kmeans.cluster_centers_[:, 1], s=300, c='red')\n",
    "plt.show()"
   ]
  },
  {
   "cell_type": "code",
   "execution_count": 276,
   "metadata": {},
   "outputs": [],
   "source": [
    "clusters_base = y_to_clusters(base_y)"
   ]
  },
  {
   "cell_type": "code",
   "execution_count": 277,
   "metadata": {},
   "outputs": [
    {
     "name": "stdout",
     "output_type": "stream",
     "text": [
      "Cluster Cohesion: 80.44851679621783\n"
     ]
    }
   ],
   "source": [
    "CC_base = get_cluster_cohesion(X, clusters_base)\n",
    "print('Cluster Cohesion:', CC_base)"
   ]
  },
  {
   "cell_type": "code",
   "execution_count": 221,
   "metadata": {},
   "outputs": [],
   "source": [
    "labels_dict = get_new_labels(y, pred_y)"
   ]
  },
  {
   "cell_type": "code",
   "execution_count": 228,
   "metadata": {},
   "outputs": [
    {
     "data": {
      "image/png": "[encoded data removed]",
      "text/plain": [
       "<Figure size 432x288 with 1 Axes>"
      ]
     },
     "metadata": {
      "needs_background": "light"
     },
     "output_type": "display_data"
    },
    {
     "data": {
      "image/png": "[encoded data removed]",
      "text/plain": [
       "<Figure size 432x288 with 1 Axes>"
      ]
     },
     "metadata": {
      "needs_background": "light"
     },
     "output_type": "display_data"
    },
    {
     "data": {
      "image/png": "[encoded data removed]",
      "text/plain": [
       "<Figure size 432x288 with 1 Axes>"
      ]
     },
     "metadata": {
      "needs_background": "light"
     },
     "output_type": "display_data"
    }
   ],
   "source": [
    "clusters = list(clusters)\n",
    "for i in range(5):\n",
    "    indeces = [j for j in range(len(X)) if pred_y[j] == i]\n",
    "    plt.scatter([X[j][0] for j in indeces], [X[j][1] for j in indeces], marker='$' + str(i) + '$')\n",
    "plt.show()\n",
    "\n",
    "for i in range(5):\n",
    "    indeces = [j for j in range(len(X)) if y_trans[j] == i]\n",
    "    plt.scatter([X[j][0] for j in indeces], [X[j][1] for j in indeces], marker='$' + str(i) + '$')\n",
    "plt.show()\n",
    "\n",
    "for i in range(5):\n",
    "    indeces = [j for j in range(len(X)) if y[j] == i]\n",
    "    plt.scatter([X[j][0] for j in indeces], [X[j][1] for j in indeces], marker='$' + str(i) + '$')\n",
    "    "
   ]
  },
  {
   "cell_type": "code",
   "execution_count": 172,
   "metadata": {},
   "outputs": [
    {
     "data": {
      "text/plain": [
       "{1: 2, 2: 1}"
      ]
     },
     "execution_count": 172,
     "metadata": {},
     "output_type": "execute_result"
    }
   ],
   "source": [
    "y_trans = get_new_labels(y, pred_y)"
   ]
  },
  {
   "cell_type": "code",
   "execution_count": 239,
   "metadata": {},
   "outputs": [
    {
     "data": {
      "text/plain": [
       "array([1. , 1.5])"
      ]
     },
     "execution_count": 239,
     "metadata": {},
     "output_type": "execute_result"
    }
   ],
   "source": [
    "sum([np.array([1, 2]), np.array([1, 1])]) / 2"
   ]
  },
  {
   "cell_type": "code",
   "execution_count": null,
   "metadata": {},
   "outputs": [],
   "source": []
  },
  {
   "cell_type": "code",
   "execution_count": null,
   "metadata": {},
   "outputs": [],
   "source": []
  },
  {
   "cell_type": "code",
   "execution_count": null,
   "metadata": {},
   "outputs": [],
   "source": []
  }
 ],
 "metadata": {
  "kernelspec": {
   "display_name": "Python 3",
   "language": "python",
   "name": "python3"
  },
  "language_info": {
   "codemirror_mode": {
    "name": "ipython",
    "version": 3
   },
   "file_extension": ".py",
   "mimetype": "text/x-python",
   "name": "python",
   "nbconvert_exporter": "python",
   "pygments_lexer": "ipython3",
   "version": "3.7.4"
  }
 },
 "nbformat": 4,
 "nbformat_minor": 2
}
