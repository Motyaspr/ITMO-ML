{
 "cells": [
  {
   "cell_type": "code",
   "execution_count": 117,
   "metadata": {},
   "outputs": [],
   "source": [
    "import csv\n",
    "import numpy as np\n",
    "import math\n",
    "from operator import sub\n",
    "import operator\n",
    "import matplotlib.pyplot as plt"
   ]
  },
  {
   "cell_type": "code",
   "execution_count": 95,
   "metadata": {},
   "outputs": [],
   "source": [
    "csv_path = \"card.csv\"\n",
    "with open(csv_path, 'r') as f:\n",
    "    reader = csv.reader(f, delimiter=',')\n",
    "    # get header from first row\n",
    "    headers = next(reader)\n",
    "    # get all the rows as a list\n",
    "    data = list(reader)\n",
    "    # transform data into numpy array\n",
    "    data = np.array(data).astype(float)\n",
    "data = data[:200]\n",
    "N = len(data)\n",
    "l = len(data[0]) - 1\n",
    "classCount = 10\n",
    "\n"
   ]
  },
  {
   "cell_type": "code",
   "execution_count": 96,
   "metadata": {},
   "outputs": [
    {
     "name": "stderr",
     "output_type": "stream",
     "text": [
      "/usr/local/lib/python3.7/site-packages/ipykernel_launcher.py:16: RuntimeWarning: invalid value encountered in double_scalars\n",
      "  app.launch_new_instance()\n"
     ]
    }
   ],
   "source": [
    "#NORMALIZATION\n",
    "\n",
    "maxs = [e for e in data[0]]\n",
    "mins = [e for e in data[0]]\n",
    "for row in data:\n",
    "    for i in range(0, l):\n",
    "        if row[i] > maxs[i]:\n",
    "            maxs[i] = row[i]\n",
    "        if row[i] < mins[i]:\n",
    "            mins[i] = row[i]\n",
    "\n",
    "normData = np.zeros((N, l + 1))\n",
    "#print(normData[:5])\n",
    "for i in range(0, N):\n",
    "    for j in range(0, l):\n",
    "        normData[i][j] = (data[i][j] - mins[j]) / (maxs[j] - mins[j])\n",
    "        #print(normData[i][j])\n",
    "    normData[i][l] = data[i][l]\n",
    "    \n",
    "#print(normData[:5])"
   ]
  },
  {
   "cell_type": "markdown",
   "metadata": {},
   "source": [
    "запоминать нормализацию"
   ]
  },
  {
   "cell_type": "code",
   "execution_count": 97,
   "metadata": {},
   "outputs": [],
   "source": [
    "#DISTANCE\n",
    "def euclidean(x, y):\n",
    "    res = 0.0\n",
    "    for a, b in zip(x, y):\n",
    "        res = res + (a - b) ** 2\n",
    "    return math.sqrt(res)\n",
    " \n",
    "    \n",
    "def chebyshev(x, y):\n",
    "        return abs(max(map(sub, x, y), key=abs))\n",
    "\n",
    "\n",
    "def manhattan(x, y):\n",
    "        return sum(map(abs, map(sub, x, y)))\n",
    "    \n",
    "distance_dict = {\n",
    "    \"euclidean\" : euclidean,\n",
    "    \"chebyshev\" : chebyshev,\n",
    "    \"manhattan\" : manhattan\n",
    "}\n",
    "\n",
    "#KERNEL\n",
    "def uniform(x):\n",
    "    if abs(x) >= 1:\n",
    "        return 0\n",
    "    else:\n",
    "        return 0.5\n",
    " \n",
    " \n",
    "def triangular(x):\n",
    "    if abs(x) >= 1:\n",
    "        return 0\n",
    "    else:\n",
    "        return 1 - abs(x)\n",
    " \n",
    " \n",
    "def epanechnikov(x):\n",
    "    if abs(x) >= 1:\n",
    "        return 0\n",
    "    else:\n",
    "        return 0.75 * (1 - x ** 2)\n",
    " \n",
    " \n",
    "def quartic(x):\n",
    "    if abs(x) >= 1:\n",
    "        return 0\n",
    "    else:\n",
    "        return 15 / 16 * (1 - x ** 2) ** 2\n",
    " \n",
    " \n",
    "def triweight(x):\n",
    "    if abs(x) >= 1:\n",
    "        return 0\n",
    "    else:\n",
    "        return 35 / 32 * (1 - x ** 2) ** 3\n",
    " \n",
    " \n",
    "def tricube(x):\n",
    "    if abs(x) >= 1:\n",
    "        return 0\n",
    "    else:\n",
    "        return 70 / 81 * (1 - abs(x) ** 3) ** 3\n",
    " \n",
    " \n",
    "def gaussian(x):\n",
    "    return 1 / math.sqrt(math.pi * 2) * math.exp((-0.5) * x ** 2)\n",
    " \n",
    "def cosine(x):\n",
    "    if abs(x) >= 1:\n",
    "        return 0\n",
    "    else:\n",
    "        return math.pi / 4 * math.cos(math.pi / 2 * x)\n",
    " \n",
    " \n",
    "def logistic(x):\n",
    "    return 1 / (math.e ** x + 2 + math.e ** (-x))\n",
    "\n",
    "def sigmoid(x):\n",
    "    return 2 / math.pi / (math.e ** x + math.e ** (-x))\n",
    "\n",
    "kernel_dict = {\n",
    "    \"uniform\" : uniform,\n",
    "    \"triangular\" : triangular,\n",
    "    \"epanechnikov\" : epanechnikov,\n",
    "    \"quartic\" : quartic,\n",
    "    \"triweight\" : triweight,\n",
    "    \"tricube\" : tricube,\n",
    "    \"gaussian\" : gaussian,\n",
    "    \"cosine\" : cosine,\n",
    "    \"logistic\" : logistic,\n",
    "    \"sigmoid\" : sigmoid\n",
    "}\n",
    "\n",
    "#WINDOW\n",
    "def fixed(h, points, kernel):\n",
    "    return list(map(lambda x: kernel(x / h), points))\n",
    " \n",
    "def variable(k, points, kernel):\n",
    "    h = points[k]\n",
    "    return list(map(lambda x: kernel(x / h), points))\n"
   ]
  },
  {
   "cell_type": "code",
   "execution_count": 98,
   "metadata": {},
   "outputs": [],
   "source": [
    "def calcFMeasure(v):\n",
    "    n = len(v)\n",
    "    summ = sum([sum(row) for row in v])\n",
    "    precision_macro = 0\n",
    "    recall_macro = 0\n",
    "  \n",
    "    for i in range(0, n):\n",
    "        x = 0\n",
    "        y = 0\n",
    "        for j in range(0, n):\n",
    "            x += v[i][j]\n",
    "            y += v[j][i]\n",
    "      \n",
    "        precision = v[i][i] / x if x != 0 else 0\n",
    "        recall = v[i][i] / y if y != 0 else 0\n",
    "        precision_macro += precision * x\n",
    "        recall_macro += recall * x\n",
    "  \n",
    "    return 2.0 * precision_macro * recall_macro / (precision_macro + recall_macro) / summ if precision_macro + recall_macro != 0 and sum != 0 else 0"
   ]
  },
  {
   "cell_type": "code",
   "execution_count": 99,
   "metadata": {},
   "outputs": [
    {
     "data": {
      "text/plain": [
       "0.3268608414239482"
      ]
     },
     "execution_count": 99,
     "metadata": {},
     "output_type": "execute_result"
    }
   ],
   "source": [
    "calcFMeasure([[3, 1, 1], [3, 1, 1], [1 ,3, 1]])"
   ]
  },
  {
   "cell_type": "code",
   "execution_count": 111,
   "metadata": {},
   "outputs": [],
   "source": [
    "def subF(dist, kernel, window, hk, data, y):\n",
    "    res = 0\n",
    "    for i in range(1, N - 1):\n",
    "        ifMatch = (1 if data[i][-1] == y else 0)\n",
    "        d = distance_dict[dist](data[0][:-1], data[i][:-1])\n",
    "        denom = hk if window == \"fixed\" else distance_dict[dist](data[0][:-1], data[hk + 1][:-1])\n",
    "        res += ifMatch * kernel_dict[kernel](d / denom)\n",
    "    return res"
   ]
  },
  {
   "cell_type": "code",
   "execution_count": 112,
   "metadata": {},
   "outputs": [],
   "source": [
    "def getClass(dist, kernel, window, hk, row, normData):\n",
    "    point = [e for e in normData[row]]\n",
    "    sortedData = sorted(normData, key=lambda r: distance_dict[dist](r[:-1], point[:-1]))[1:]\n",
    "    sum_dict = {clazz : subF(dist, kernel, window, hk, sortedData, clazz) for clazz in range(1, 11)}\n",
    "    return max(sum_dict.items(), key=operator.itemgetter(1))[0]"
   ]
  },
  {
   "cell_type": "code",
   "execution_count": 113,
   "metadata": {},
   "outputs": [],
   "source": [
    "def runCombo(dist, kernel, window, hk, normData):\n",
    "    unacc = np.zeros((classCount, classCount))\n",
    "    for i in range(0, N):\n",
    "        prediction = getClass(dist, kernel, window, hk, i, normData)\n",
    "        actual = int(normData[i][-1])\n",
    "        unacc[prediction - 1][actual - 1] += 1\n",
    "        #print(i, prediction, actual)\n",
    "    return unacc"
   ]
  },
  {
   "cell_type": "code",
   "execution_count": 103,
   "metadata": {
    "scrolled": true
   },
   "outputs": [
    {
     "name": "stdout",
     "output_type": "stream",
     "text": [
      "run calculation: chebyshev uniform var 3\n"
     ]
    },
    {
     "ename": "KeyboardInterrupt",
     "evalue": "",
     "output_type": "error",
     "traceback": [
      "\u001b[0;31m---------------------------------------------------------------------------\u001b[0m",
      "\u001b[0;31mKeyboardInterrupt\u001b[0m                         Traceback (most recent call last)",
      "\u001b[0;32m<ipython-input-103-537bb7e97f34>\u001b[0m in \u001b[0;36m<module>\u001b[0;34m\u001b[0m\n\u001b[1;32m     12\u001b[0m     \u001b[0;32mfor\u001b[0m \u001b[0mi\u001b[0m \u001b[0;32min\u001b[0m \u001b[0mrange\u001b[0m\u001b[0;34m(\u001b[0m\u001b[0;36m3\u001b[0m\u001b[0;34m,\u001b[0m \u001b[0;36m15\u001b[0m\u001b[0;34m)\u001b[0m\u001b[0;34m:\u001b[0m\u001b[0;34m\u001b[0m\u001b[0;34m\u001b[0m\u001b[0m\n\u001b[1;32m     13\u001b[0m         \u001b[0mprint\u001b[0m\u001b[0;34m(\u001b[0m\u001b[0;34m\"run calculation: \"\u001b[0m \u001b[0;34m+\u001b[0m \u001b[0mdist\u001b[0m\u001b[0;34m,\u001b[0m \u001b[0mkernel\u001b[0m\u001b[0;34m,\u001b[0m \u001b[0;34m\"var\"\u001b[0m\u001b[0;34m,\u001b[0m \u001b[0mi\u001b[0m\u001b[0;34m)\u001b[0m\u001b[0;34m\u001b[0m\u001b[0;34m\u001b[0m\u001b[0m\n\u001b[0;32m---> 14\u001b[0;31m         \u001b[0mfm\u001b[0m \u001b[0;34m=\u001b[0m \u001b[0mcalcFMeasure\u001b[0m\u001b[0;34m(\u001b[0m\u001b[0mrunCombo\u001b[0m\u001b[0;34m(\u001b[0m\u001b[0mdist\u001b[0m\u001b[0;34m,\u001b[0m \u001b[0mkernel\u001b[0m\u001b[0;34m,\u001b[0m \u001b[0;34m\"var\"\u001b[0m\u001b[0;34m,\u001b[0m \u001b[0mi\u001b[0m\u001b[0;34m,\u001b[0m \u001b[0mnormData\u001b[0m\u001b[0;34m)\u001b[0m\u001b[0;34m)\u001b[0m\u001b[0;34m\u001b[0m\u001b[0;34m\u001b[0m\u001b[0m\n\u001b[0m\u001b[1;32m     15\u001b[0m         \u001b[0mprint\u001b[0m\u001b[0;34m(\u001b[0m\u001b[0;34m\"f = \"\u001b[0m\u001b[0;34m,\u001b[0m \u001b[0mfm\u001b[0m\u001b[0;34m)\u001b[0m\u001b[0;34m\u001b[0m\u001b[0;34m\u001b[0m\u001b[0m\n\u001b[1;32m     16\u001b[0m         \u001b[0mf_dict\u001b[0m\u001b[0;34m[\u001b[0m\u001b[0mfm\u001b[0m\u001b[0;34m]\u001b[0m \u001b[0;34m=\u001b[0m \u001b[0;34m(\u001b[0m\u001b[0mdist\u001b[0m\u001b[0;34m,\u001b[0m \u001b[0mkernel\u001b[0m\u001b[0;34m,\u001b[0m \u001b[0;34m\"var\"\u001b[0m\u001b[0;34m,\u001b[0m \u001b[0mi\u001b[0m\u001b[0;34m)\u001b[0m\u001b[0;34m\u001b[0m\u001b[0;34m\u001b[0m\u001b[0m\n",
      "\u001b[0;32m<ipython-input-102-a4accbbd6668>\u001b[0m in \u001b[0;36mrunCombo\u001b[0;34m(dist, kernel, window, hk, normData)\u001b[0m\n\u001b[1;32m      2\u001b[0m     \u001b[0munacc\u001b[0m \u001b[0;34m=\u001b[0m \u001b[0mnp\u001b[0m\u001b[0;34m.\u001b[0m\u001b[0mzeros\u001b[0m\u001b[0;34m(\u001b[0m\u001b[0;34m(\u001b[0m\u001b[0mclassCount\u001b[0m\u001b[0;34m,\u001b[0m \u001b[0mclassCount\u001b[0m\u001b[0;34m)\u001b[0m\u001b[0;34m)\u001b[0m\u001b[0;34m\u001b[0m\u001b[0;34m\u001b[0m\u001b[0m\n\u001b[1;32m      3\u001b[0m     \u001b[0;32mfor\u001b[0m \u001b[0mi\u001b[0m \u001b[0;32min\u001b[0m \u001b[0mrange\u001b[0m\u001b[0;34m(\u001b[0m\u001b[0;36m0\u001b[0m\u001b[0;34m,\u001b[0m \u001b[0mN\u001b[0m\u001b[0;34m)\u001b[0m\u001b[0;34m:\u001b[0m\u001b[0;34m\u001b[0m\u001b[0;34m\u001b[0m\u001b[0m\n\u001b[0;32m----> 4\u001b[0;31m         \u001b[0mprediction\u001b[0m \u001b[0;34m=\u001b[0m \u001b[0mgetClass\u001b[0m\u001b[0;34m(\u001b[0m\u001b[0mdist\u001b[0m\u001b[0;34m,\u001b[0m \u001b[0mkernel\u001b[0m\u001b[0;34m,\u001b[0m \u001b[0mwindow\u001b[0m\u001b[0;34m,\u001b[0m \u001b[0mhk\u001b[0m\u001b[0;34m,\u001b[0m \u001b[0mi\u001b[0m\u001b[0;34m,\u001b[0m \u001b[0mnormData\u001b[0m\u001b[0;34m)\u001b[0m\u001b[0;34m\u001b[0m\u001b[0;34m\u001b[0m\u001b[0m\n\u001b[0m\u001b[1;32m      5\u001b[0m         \u001b[0mactual\u001b[0m \u001b[0;34m=\u001b[0m \u001b[0mint\u001b[0m\u001b[0;34m(\u001b[0m\u001b[0mnormData\u001b[0m\u001b[0;34m[\u001b[0m\u001b[0mi\u001b[0m\u001b[0;34m]\u001b[0m\u001b[0;34m[\u001b[0m\u001b[0;34m-\u001b[0m\u001b[0;36m1\u001b[0m\u001b[0;34m]\u001b[0m\u001b[0;34m)\u001b[0m\u001b[0;34m\u001b[0m\u001b[0;34m\u001b[0m\u001b[0m\n\u001b[1;32m      6\u001b[0m         \u001b[0munacc\u001b[0m\u001b[0;34m[\u001b[0m\u001b[0mprediction\u001b[0m \u001b[0;34m-\u001b[0m \u001b[0;36m1\u001b[0m\u001b[0;34m]\u001b[0m\u001b[0;34m[\u001b[0m\u001b[0mactual\u001b[0m \u001b[0;34m-\u001b[0m \u001b[0;36m1\u001b[0m\u001b[0;34m]\u001b[0m \u001b[0;34m+=\u001b[0m \u001b[0;36m1\u001b[0m\u001b[0;34m\u001b[0m\u001b[0;34m\u001b[0m\u001b[0m\n",
      "\u001b[0;32m<ipython-input-101-9741af44d3eb>\u001b[0m in \u001b[0;36mgetClass\u001b[0;34m(dist, kernel, window, hk, row, normData)\u001b[0m\n\u001b[1;32m      2\u001b[0m     \u001b[0mpoint\u001b[0m \u001b[0;34m=\u001b[0m \u001b[0;34m[\u001b[0m\u001b[0me\u001b[0m \u001b[0;32mfor\u001b[0m \u001b[0me\u001b[0m \u001b[0;32min\u001b[0m \u001b[0mnormData\u001b[0m\u001b[0;34m[\u001b[0m\u001b[0mrow\u001b[0m\u001b[0;34m]\u001b[0m\u001b[0;34m]\u001b[0m\u001b[0;34m\u001b[0m\u001b[0;34m\u001b[0m\u001b[0m\n\u001b[1;32m      3\u001b[0m     \u001b[0msortedData\u001b[0m \u001b[0;34m=\u001b[0m \u001b[0msorted\u001b[0m\u001b[0;34m(\u001b[0m\u001b[0mnormData\u001b[0m\u001b[0;34m,\u001b[0m \u001b[0mkey\u001b[0m\u001b[0;34m=\u001b[0m\u001b[0;32mlambda\u001b[0m \u001b[0mr\u001b[0m\u001b[0;34m:\u001b[0m \u001b[0mdistance_dict\u001b[0m\u001b[0;34m[\u001b[0m\u001b[0mdist\u001b[0m\u001b[0;34m]\u001b[0m\u001b[0;34m(\u001b[0m\u001b[0mr\u001b[0m\u001b[0;34m[\u001b[0m\u001b[0;34m:\u001b[0m\u001b[0;34m-\u001b[0m\u001b[0;36m1\u001b[0m\u001b[0;34m]\u001b[0m\u001b[0;34m,\u001b[0m \u001b[0mpoint\u001b[0m\u001b[0;34m[\u001b[0m\u001b[0;34m:\u001b[0m\u001b[0;34m-\u001b[0m\u001b[0;36m1\u001b[0m\u001b[0;34m]\u001b[0m\u001b[0;34m)\u001b[0m\u001b[0;34m)\u001b[0m\u001b[0;34m\u001b[0m\u001b[0;34m\u001b[0m\u001b[0m\n\u001b[0;32m----> 4\u001b[0;31m     \u001b[0msum_dict\u001b[0m \u001b[0;34m=\u001b[0m \u001b[0;34m{\u001b[0m\u001b[0mclazz\u001b[0m \u001b[0;34m:\u001b[0m \u001b[0msubF\u001b[0m\u001b[0;34m(\u001b[0m\u001b[0mdist\u001b[0m\u001b[0;34m,\u001b[0m \u001b[0mkernel\u001b[0m\u001b[0;34m,\u001b[0m \u001b[0mwindow\u001b[0m\u001b[0;34m,\u001b[0m \u001b[0mhk\u001b[0m\u001b[0;34m,\u001b[0m \u001b[0msortedData\u001b[0m\u001b[0;34m,\u001b[0m \u001b[0mclazz\u001b[0m\u001b[0;34m)\u001b[0m \u001b[0;32mfor\u001b[0m \u001b[0mclazz\u001b[0m \u001b[0;32min\u001b[0m \u001b[0mrange\u001b[0m\u001b[0;34m(\u001b[0m\u001b[0;36m1\u001b[0m\u001b[0;34m,\u001b[0m \u001b[0;36m11\u001b[0m\u001b[0;34m)\u001b[0m\u001b[0;34m}\u001b[0m\u001b[0;34m\u001b[0m\u001b[0;34m\u001b[0m\u001b[0m\n\u001b[0m\u001b[1;32m      5\u001b[0m     \u001b[0;32mreturn\u001b[0m \u001b[0mmax\u001b[0m\u001b[0;34m(\u001b[0m\u001b[0msum_dict\u001b[0m\u001b[0;34m.\u001b[0m\u001b[0mitems\u001b[0m\u001b[0;34m(\u001b[0m\u001b[0;34m)\u001b[0m\u001b[0;34m,\u001b[0m \u001b[0mkey\u001b[0m\u001b[0;34m=\u001b[0m\u001b[0moperator\u001b[0m\u001b[0;34m.\u001b[0m\u001b[0mitemgetter\u001b[0m\u001b[0;34m(\u001b[0m\u001b[0;36m1\u001b[0m\u001b[0;34m)\u001b[0m\u001b[0;34m)\u001b[0m\u001b[0;34m[\u001b[0m\u001b[0;36m0\u001b[0m\u001b[0;34m]\u001b[0m\u001b[0;34m\u001b[0m\u001b[0;34m\u001b[0m\u001b[0m\n",
      "\u001b[0;32m<ipython-input-101-9741af44d3eb>\u001b[0m in \u001b[0;36m<dictcomp>\u001b[0;34m(.0)\u001b[0m\n\u001b[1;32m      2\u001b[0m     \u001b[0mpoint\u001b[0m \u001b[0;34m=\u001b[0m \u001b[0;34m[\u001b[0m\u001b[0me\u001b[0m \u001b[0;32mfor\u001b[0m \u001b[0me\u001b[0m \u001b[0;32min\u001b[0m \u001b[0mnormData\u001b[0m\u001b[0;34m[\u001b[0m\u001b[0mrow\u001b[0m\u001b[0;34m]\u001b[0m\u001b[0;34m]\u001b[0m\u001b[0;34m\u001b[0m\u001b[0;34m\u001b[0m\u001b[0m\n\u001b[1;32m      3\u001b[0m     \u001b[0msortedData\u001b[0m \u001b[0;34m=\u001b[0m \u001b[0msorted\u001b[0m\u001b[0;34m(\u001b[0m\u001b[0mnormData\u001b[0m\u001b[0;34m,\u001b[0m \u001b[0mkey\u001b[0m\u001b[0;34m=\u001b[0m\u001b[0;32mlambda\u001b[0m \u001b[0mr\u001b[0m\u001b[0;34m:\u001b[0m \u001b[0mdistance_dict\u001b[0m\u001b[0;34m[\u001b[0m\u001b[0mdist\u001b[0m\u001b[0;34m]\u001b[0m\u001b[0;34m(\u001b[0m\u001b[0mr\u001b[0m\u001b[0;34m[\u001b[0m\u001b[0;34m:\u001b[0m\u001b[0;34m-\u001b[0m\u001b[0;36m1\u001b[0m\u001b[0;34m]\u001b[0m\u001b[0;34m,\u001b[0m \u001b[0mpoint\u001b[0m\u001b[0;34m[\u001b[0m\u001b[0;34m:\u001b[0m\u001b[0;34m-\u001b[0m\u001b[0;36m1\u001b[0m\u001b[0;34m]\u001b[0m\u001b[0;34m)\u001b[0m\u001b[0;34m)\u001b[0m\u001b[0;34m\u001b[0m\u001b[0;34m\u001b[0m\u001b[0m\n\u001b[0;32m----> 4\u001b[0;31m     \u001b[0msum_dict\u001b[0m \u001b[0;34m=\u001b[0m \u001b[0;34m{\u001b[0m\u001b[0mclazz\u001b[0m \u001b[0;34m:\u001b[0m \u001b[0msubF\u001b[0m\u001b[0;34m(\u001b[0m\u001b[0mdist\u001b[0m\u001b[0;34m,\u001b[0m \u001b[0mkernel\u001b[0m\u001b[0;34m,\u001b[0m \u001b[0mwindow\u001b[0m\u001b[0;34m,\u001b[0m \u001b[0mhk\u001b[0m\u001b[0;34m,\u001b[0m \u001b[0msortedData\u001b[0m\u001b[0;34m,\u001b[0m \u001b[0mclazz\u001b[0m\u001b[0;34m)\u001b[0m \u001b[0;32mfor\u001b[0m \u001b[0mclazz\u001b[0m \u001b[0;32min\u001b[0m \u001b[0mrange\u001b[0m\u001b[0;34m(\u001b[0m\u001b[0;36m1\u001b[0m\u001b[0;34m,\u001b[0m \u001b[0;36m11\u001b[0m\u001b[0;34m)\u001b[0m\u001b[0;34m}\u001b[0m\u001b[0;34m\u001b[0m\u001b[0;34m\u001b[0m\u001b[0m\n\u001b[0m\u001b[1;32m      5\u001b[0m     \u001b[0;32mreturn\u001b[0m \u001b[0mmax\u001b[0m\u001b[0;34m(\u001b[0m\u001b[0msum_dict\u001b[0m\u001b[0;34m.\u001b[0m\u001b[0mitems\u001b[0m\u001b[0;34m(\u001b[0m\u001b[0;34m)\u001b[0m\u001b[0;34m,\u001b[0m \u001b[0mkey\u001b[0m\u001b[0;34m=\u001b[0m\u001b[0moperator\u001b[0m\u001b[0;34m.\u001b[0m\u001b[0mitemgetter\u001b[0m\u001b[0;34m(\u001b[0m\u001b[0;36m1\u001b[0m\u001b[0;34m)\u001b[0m\u001b[0;34m)\u001b[0m\u001b[0;34m[\u001b[0m\u001b[0;36m0\u001b[0m\u001b[0;34m]\u001b[0m\u001b[0;34m\u001b[0m\u001b[0;34m\u001b[0m\u001b[0m\n",
      "\u001b[0;32m<ipython-input-100-7e134033547e>\u001b[0m in \u001b[0;36msubF\u001b[0;34m(dist, kernel, window, hk, data, y)\u001b[0m\n\u001b[1;32m      3\u001b[0m     \u001b[0;32mfor\u001b[0m \u001b[0mi\u001b[0m \u001b[0;32min\u001b[0m \u001b[0mrange\u001b[0m\u001b[0;34m(\u001b[0m\u001b[0;36m1\u001b[0m\u001b[0;34m,\u001b[0m \u001b[0mN\u001b[0m\u001b[0;34m)\u001b[0m\u001b[0;34m:\u001b[0m\u001b[0;34m\u001b[0m\u001b[0;34m\u001b[0m\u001b[0m\n\u001b[1;32m      4\u001b[0m         \u001b[0mifMatch\u001b[0m \u001b[0;34m=\u001b[0m \u001b[0;34m(\u001b[0m\u001b[0;36m1\u001b[0m \u001b[0;32mif\u001b[0m \u001b[0mdata\u001b[0m\u001b[0;34m[\u001b[0m\u001b[0mi\u001b[0m\u001b[0;34m]\u001b[0m\u001b[0;34m[\u001b[0m\u001b[0;34m-\u001b[0m\u001b[0;36m1\u001b[0m\u001b[0;34m]\u001b[0m \u001b[0;34m==\u001b[0m \u001b[0my\u001b[0m \u001b[0;32melse\u001b[0m \u001b[0;36m0\u001b[0m\u001b[0;34m)\u001b[0m\u001b[0;34m\u001b[0m\u001b[0;34m\u001b[0m\u001b[0m\n\u001b[0;32m----> 5\u001b[0;31m         \u001b[0md\u001b[0m \u001b[0;34m=\u001b[0m \u001b[0mdistance_dict\u001b[0m\u001b[0;34m[\u001b[0m\u001b[0mdist\u001b[0m\u001b[0;34m]\u001b[0m\u001b[0;34m(\u001b[0m\u001b[0mdata\u001b[0m\u001b[0;34m[\u001b[0m\u001b[0;36m0\u001b[0m\u001b[0;34m]\u001b[0m\u001b[0;34m[\u001b[0m\u001b[0;34m:\u001b[0m\u001b[0;34m-\u001b[0m\u001b[0;36m1\u001b[0m\u001b[0;34m]\u001b[0m\u001b[0;34m,\u001b[0m \u001b[0mdata\u001b[0m\u001b[0;34m[\u001b[0m\u001b[0mi\u001b[0m\u001b[0;34m]\u001b[0m\u001b[0;34m[\u001b[0m\u001b[0;34m:\u001b[0m\u001b[0;34m-\u001b[0m\u001b[0;36m1\u001b[0m\u001b[0;34m]\u001b[0m\u001b[0;34m)\u001b[0m\u001b[0;34m\u001b[0m\u001b[0;34m\u001b[0m\u001b[0m\n\u001b[0m\u001b[1;32m      6\u001b[0m         \u001b[0mdenom\u001b[0m \u001b[0;34m=\u001b[0m \u001b[0mhk\u001b[0m \u001b[0;32mif\u001b[0m \u001b[0mwindow\u001b[0m \u001b[0;34m==\u001b[0m \u001b[0;34m\"fixed\"\u001b[0m \u001b[0;32melse\u001b[0m \u001b[0mdistance_dict\u001b[0m\u001b[0;34m[\u001b[0m\u001b[0mdist\u001b[0m\u001b[0;34m]\u001b[0m\u001b[0;34m(\u001b[0m\u001b[0mdata\u001b[0m\u001b[0;34m[\u001b[0m\u001b[0;36m0\u001b[0m\u001b[0;34m]\u001b[0m\u001b[0;34m[\u001b[0m\u001b[0;34m:\u001b[0m\u001b[0;34m-\u001b[0m\u001b[0;36m1\u001b[0m\u001b[0;34m]\u001b[0m\u001b[0;34m,\u001b[0m \u001b[0mdata\u001b[0m\u001b[0;34m[\u001b[0m\u001b[0mhk\u001b[0m \u001b[0;34m+\u001b[0m \u001b[0;36m1\u001b[0m\u001b[0;34m]\u001b[0m\u001b[0;34m[\u001b[0m\u001b[0;34m:\u001b[0m\u001b[0;34m-\u001b[0m\u001b[0;36m1\u001b[0m\u001b[0;34m]\u001b[0m\u001b[0;34m)\u001b[0m\u001b[0;34m\u001b[0m\u001b[0;34m\u001b[0m\u001b[0m\n\u001b[1;32m      7\u001b[0m         \u001b[0mres\u001b[0m \u001b[0;34m+=\u001b[0m \u001b[0mifMatch\u001b[0m \u001b[0;34m*\u001b[0m \u001b[0mkernel_dict\u001b[0m\u001b[0;34m[\u001b[0m\u001b[0mkernel\u001b[0m\u001b[0;34m]\u001b[0m\u001b[0;34m(\u001b[0m\u001b[0md\u001b[0m \u001b[0;34m/\u001b[0m \u001b[0mdenom\u001b[0m\u001b[0;34m)\u001b[0m\u001b[0;34m\u001b[0m\u001b[0;34m\u001b[0m\u001b[0m\n",
      "\u001b[0;32m<ipython-input-97-ebbba5187813>\u001b[0m in \u001b[0;36mchebyshev\u001b[0;34m(x, y)\u001b[0m\n\u001b[1;32m      8\u001b[0m \u001b[0;34m\u001b[0m\u001b[0m\n\u001b[1;32m      9\u001b[0m \u001b[0;32mdef\u001b[0m \u001b[0mchebyshev\u001b[0m\u001b[0;34m(\u001b[0m\u001b[0mx\u001b[0m\u001b[0;34m,\u001b[0m \u001b[0my\u001b[0m\u001b[0;34m)\u001b[0m\u001b[0;34m:\u001b[0m\u001b[0;34m\u001b[0m\u001b[0;34m\u001b[0m\u001b[0m\n\u001b[0;32m---> 10\u001b[0;31m         \u001b[0;32mreturn\u001b[0m \u001b[0mabs\u001b[0m\u001b[0;34m(\u001b[0m\u001b[0mmax\u001b[0m\u001b[0;34m(\u001b[0m\u001b[0mmap\u001b[0m\u001b[0;34m(\u001b[0m\u001b[0msub\u001b[0m\u001b[0;34m,\u001b[0m \u001b[0mx\u001b[0m\u001b[0;34m,\u001b[0m \u001b[0my\u001b[0m\u001b[0;34m)\u001b[0m\u001b[0;34m,\u001b[0m \u001b[0mkey\u001b[0m\u001b[0;34m=\u001b[0m\u001b[0mabs\u001b[0m\u001b[0;34m)\u001b[0m\u001b[0;34m)\u001b[0m\u001b[0;34m\u001b[0m\u001b[0;34m\u001b[0m\u001b[0m\n\u001b[0m\u001b[1;32m     11\u001b[0m \u001b[0;34m\u001b[0m\u001b[0m\n\u001b[1;32m     12\u001b[0m \u001b[0;34m\u001b[0m\u001b[0m\n",
      "\u001b[0;31mKeyboardInterrupt\u001b[0m: "
     ]
    }
   ],
   "source": [
    "f_dict = {}\n",
    "dist = \"chebyshev\"\n",
    "for kernel in kernel_dict:\n",
    "    '''\n",
    "        for i in range(10, 250, 20):\n",
    "        print(\"run calculation: \" + dist, kernel, \"fixed\", (i+1) / 100)\n",
    "        fm = calcFMeasure(runCombo(dist, kernel, \"fixed\", (i+1) / 100, normData))\n",
    "        print(\"f = \", fm)\n",
    "        f_dict[fm] = (dist, kernel, \"fixed\", (i+1) / 100)\n",
    "        file.write(\"This is line %d\\r\\n\" % (i+1))\n",
    "    '''\n",
    "    for i in range(3, 15):\n",
    "        print(\"run calculation: \" + dist, kernel, \"var\", i)\n",
    "        fm = calcFMeasure(runCombo(dist, kernel, \"var\", i, normData))\n",
    "        print(\"f = \", fm)\n",
    "        f_dict[fm] = (dist, kernel, \"var\", i)\n",
    "print(f_dict)\n",
    "            "
   ]
  },
  {
   "cell_type": "code",
   "execution_count": 114,
   "metadata": {},
   "outputs": [
    {
     "data": {
      "text/plain": [
       "0.9805346979621073"
      ]
     },
     "execution_count": 114,
     "metadata": {},
     "output_type": "execute_result"
    }
   ],
   "source": [
    "calcFMeasure((runCombo(\"chebyshev\", \"tricube\", \"var\", 5, normData)))"
   ]
  },
  {
   "cell_type": "code",
   "execution_count": 120,
   "metadata": {},
   "outputs": [
    {
     "name": "stderr",
     "output_type": "stream",
     "text": [
      "/usr/local/lib/python3.7/site-packages/ipykernel_launcher.py:7: RuntimeWarning: invalid value encountered in double_scalars\n",
      "  import sys\n",
      "/usr/local/lib/python3.7/site-packages/ipykernel_launcher.py:7: RuntimeWarning: divide by zero encountered in double_scalars\n",
      "  import sys\n"
     ]
    },
    {
     "name": "stdout",
     "output_type": "stream",
     "text": [
      "0 0.6601884039323894\n",
      "1 0.8525527196994203\n",
      "2 0.8660791985145658\n",
      "3 0.9385661678710437\n",
      "4 0.9659181088012552\n",
      "5 0.9805346979621073\n",
      "6 0.980438324098959\n",
      "7 0.9901517758282941\n",
      "8 0.9901723837715479\n",
      "9 0.9901723837715479\n",
      "10 0.9663035661792989\n",
      "11 0.9853877783124096\n",
      "12 1.0\n",
      "13 0.9901723837715479\n",
      "14 0.980689170182841\n",
      "15 0.9901723837715479\n",
      "16 0.9901723837715479\n",
      "17 0.9901723837715479\n",
      "18 0.9950431015811134\n",
      "[0, 0.6601884039323894, 1, 0.8525527196994203, 2, 0.8660791985145658, 3, 0.9385661678710437, 4, 0.9659181088012552, 5, 0.9805346979621073, 6, 0.980438324098959, 7, 0.9901517758282941, 8, 0.9901723837715479, 9, 0.9901723837715479, 10, 0.9663035661792989, 11, 0.9853877783124096, 12, 1.0, 13, 0.9901723837715479, 14, 0.980689170182841, 15, 0.9901723837715479, 16, 0.9901723837715479, 17, 0.9901723837715479, 18, 0.9950431015811134]\n"
     ]
    }
   ],
   "source": [
    "final_f = []\n",
    "for i in range(0, 19):\n",
    "    fm = calcFMeasure((runCombo(\"chebyshev\", \"uniform\", \"var\", i, normData)))\n",
    "    print(i, fm)\n",
    "    final_f += (i, fm)\n",
    "print(final_f)"
   ]
  },
  {
   "cell_type": "code",
   "execution_count": 121,
   "metadata": {},
   "outputs": [
    {
     "data": {
      "image/png": "[encoded data removed]",
      "text/plain": [
       "<Figure size 432x288 with 1 Axes>"
      ]
     },
     "metadata": {
      "needs_background": "light"
     },
     "output_type": "display_data"
    }
   ],
   "source": [
    "xs = [final_f[i] for i in range(0, len(final_f), 2)]\n",
    "ys = [final_f[i] for i in range(1, len(final_f), 2)]\n",
    "plt.plot(xs, ys)\n",
    "plt.ylabel('F measure')\n",
    "plt.xlabel('number of neighbours')\n",
    "plt.show()"
   ]
  },
  {
   "cell_type": "code",
   "execution_count": null,
   "metadata": {},
   "outputs": [],
   "source": []
  }
 ],
 "metadata": {
  "kernelspec": {
   "display_name": "Python 3",
   "language": "python",
   "name": "python3"
  },
  "language_info": {
   "codemirror_mode": {
    "name": "ipython",
    "version": 3
   },
   "file_extension": ".py",
   "mimetype": "text/x-python",
   "name": "python",
   "nbconvert_exporter": "python",
   "pygments_lexer": "ipython3",
   "version": "3.7.4"
  }
 },
 "nbformat": 4,
 "nbformat_minor": 2
}
